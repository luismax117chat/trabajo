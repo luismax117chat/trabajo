{
 "cells": [
  {
   "cell_type": "code",
   "execution_count": 1,
   "metadata": {},
   "outputs": [
    {
     "name": "stdout",
     "output_type": "stream",
     "text": [
      "hola mundo\n"
     ]
    }
   ],
   "source": [
    "class reservar:\n",
    "    lista[]\n",
    "   \n",
    "\n",
    "    def __init__(self,usuario,funcion,asiento):\n",
    "        self.usuario=usuario\n",
    "        self.funcion=funcion\n",
    "        self.asiento=asiento\n",
    "    def confirmarreserva(self):\n",
    "\n",
    "    def reservar(self):\n",
    "        printf(f\"el usuario {self.usuario} de la funcion{self.funcion} dela asiento{self.asiento}\")\n",
    "\n",
    "        "
   ]
  },
  {
   "cell_type": "code",
   "execution_count": null,
   "metadata": {},
   "outputs": [],
   "source": []
  },
  {
   "cell_type": "code",
   "execution_count": null,
   "metadata": {},
   "outputs": [],
   "source": [
    "class funcion:\n",
    "    def __init__(self,hora,sala,pelicula):\n",
    "        self.hora=hora\n",
    "        self.sala=sala\n",
    "        self.pelicula=pelicula\n",
    "    def datos(self):\n",
    "        print(f\"la pelicula {self.pelicula} de la {self.sala} de horas{self.hora}\")"
   ]
  },
  {
   "cell_type": "code",
   "execution_count": null,
   "metadata": {},
   "outputs": [],
   "source": []
  },
  {
   "cell_type": "code",
   "execution_count": null,
   "metadata": {},
   "outputs": [],
   "source": [
    "class pelicula:\n",
    "    def __init__(self,titulo,duracion,clasificacion,genero):\n",
    "        self.titulo=titulo\n",
    "        self.duracion=duracion\n",
    "        self.clasificacion=clasificacion\n",
    "        self.genero=genero\n",
    "\n",
    "    def detalles(self):\n",
    "        print(f\"la persona vio la pelicula {self.titulo} con duracion {self.duracion} con clasificacion {self.clasificacion}  y del genero {self.genero}\")\n",
    "        \n",
    "        "
   ]
  },
  {
   "cell_type": "code",
   "execution_count": 12,
   "metadata": {},
   "outputs": [
    {
     "name": "stdout",
     "output_type": "stream",
     "text": [
      "la persona vio la pelicula goku con duracion 1 hora con clasificacion clasificacion r  y del genero accion\n"
     ]
    }
   ],
   "source": [
    "cliente1=pelicula(\"goku\",\"1 hora\",\"clasificacion r\",\"accion\")\n",
    "cliente1.detalles()"
   ]
  },
  {
   "cell_type": "code",
   "execution_count": null,
   "metadata": {},
   "outputs": [],
   "source": [
    "class usuario(persona):\n",
    "    def reserva(self):\n",
    "        pass\n",
    "    def cancelarrerva(self):\n",
    "        pass\n",
    "    def accederpromo(self):\n",
    "        pass"
   ]
  },
  {
   "cell_type": "code",
   "execution_count": 21,
   "metadata": {},
   "outputs": [],
   "source": [
    "class persona:\n",
    "\n",
    "    lista=[]\n",
    "\n",
    "    def __init__(self,nombre,correo):\n",
    "      self.nombre=nombre\n",
    "      self.correo=correo\n",
    "\n",
    "    def registrar(self):\n",
    "      persona.lista.append(self)\n",
    "      print(f\"la persona {self.nombre} ha sido resgistrada con el correo {self.correo}\")\n",
    "    \n",
    "    def actualizar_datos(self,nombre,correo):\n",
    "      self.nombre=nombre\n",
    "      self.correo=correo\n",
    "      print(f\"los datos ha sido actualizados\")"
   ]
  },
  {
   "cell_type": "code",
   "execution_count": 22,
   "metadata": {},
   "outputs": [
    {
     "name": "stdout",
     "output_type": "stream",
     "text": [
      "la persona luis ha sido resgistrada con el correo ggg@\n"
     ]
    },
    {
     "data": {
      "text/plain": [
       "'luis'"
      ]
     },
     "execution_count": 22,
     "metadata": {},
     "output_type": "execute_result"
    }
   ],
   "source": [
    "p1=persona(\"luis\",\"ggg@\")\n",
    "persona.registrar(p1)\n",
    "p1.nombre"
   ]
  },
  {
   "cell_type": "code",
   "execution_count": null,
   "metadata": {},
   "outputs": [],
   "source": [
    "class empleado(persona):\n",
    "    def __init__(self,nombre,correo,rol):\n",
    "        super().__init__(nombre,correo)\n",
    "        self.rol=rol\n",
    "    def agregarfuncion(self):\n",
    "        pass\n",
    "    def agregarpelicula(self):\n",
    "        pass\n",
    "    def agregar_promo(self):\n",
    "        pass\n",
    "        "
   ]
  },
  {
   "cell_type": "code",
   "execution_count": null,
   "metadata": {},
   "outputs": [],
   "source": [
    "class sala:\n",
    "\n",
    "    def __init__(self,tipo,disponibilidad):\n",
    "        self.tipo=tipo\n",
    "        self.disponibilidad=disponibilidad"
   ]
  },
  {
   "cell_type": "code",
   "execution_count": 6,
   "metadata": {},
   "outputs": [],
   "source": [
    "class espacio:\n",
    "\n",
    "    def __init__(self,tamaño,identificador):\n",
    "        self.tamaño=tamaño\n",
    "        self.identificador=identificador\n",
    "    def descripcion(self):\n",
    "        print(f\"el edificio tiene tmaaño {self.tamaño} y tiene id {self.identificador}\")"
   ]
  },
  {
   "cell_type": "code",
   "execution_count": 7,
   "metadata": {},
   "outputs": [],
   "source": [
    "class sala(espacio):\n",
    "    def __init__(self,tamaño,identificador,tipo):\n",
    "        super().__init__(tamaño,identificador)\n",
    "        self.tipo=tipo\n",
    "        self.disponibilidad=True\n",
    "    def consultardisponibilidad(self):\n",
    "        if self.disponibilidad:\n",
    "            print(\"la sala esya cupada disponible\")\n",
    "        else:\n",
    "            print(\"ocupada\")\n"
   ]
  },
  {
   "cell_type": "code",
   "execution_count": 8,
   "metadata": {},
   "outputs": [
    {
     "name": "stdout",
     "output_type": "stream",
     "text": [
      "la sala esya cupada disponible\n"
     ]
    }
   ],
   "source": [
    "sala1=sala(100,\"sala de cine\",\"3d\")\n",
    "sala1.consultardisponibilidad()"
   ]
  },
  {
   "cell_type": "code",
   "execution_count": null,
   "metadata": {},
   "outputs": [],
   "source": [
    "class promocion:\n",
    "\n",
    "    def __init__(self,)"
   ]
  }
 ],
 "metadata": {
  "kernelspec": {
   "display_name": "Python 3",
   "language": "python",
   "name": "python3"
  },
  "language_info": {
   "codemirror_mode": {
    "name": "ipython",
    "version": 3
   },
   "file_extension": ".py",
   "mimetype": "text/x-python",
   "name": "python",
   "nbconvert_exporter": "python",
   "pygments_lexer": "ipython3",
   "version": "3.13.1"
  }
 },
 "nbformat": 4,
 "nbformat_minor": 2
}
